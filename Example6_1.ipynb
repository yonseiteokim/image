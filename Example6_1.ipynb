{
 "cells": [
  {
   "cell_type": "markdown",
   "metadata": {},
   "source": [
    "# Image Study Example 6-1"
   ]
  },
  {
   "cell_type": "markdown",
   "metadata": {},
   "source": [
    "## Numpy는 Matrix 등의 행렬 연산이다"
   ]
  },
  {
   "cell_type": "code",
   "execution_count": 1,
   "metadata": {
    "collapsed": true
   },
   "outputs": [],
   "source": [
    "import numpy as np"
   ]
  },
  {
   "cell_type": "markdown",
   "metadata": {},
   "source": [
    "numpy에서 제공하는 array(Matlab의 Matrix와 같은)를 사용해서 3x3 Image X를 초기화한다"
   ]
  },
  {
   "cell_type": "code",
   "execution_count": 7,
   "metadata": {
    "collapsed": false
   },
   "outputs": [
    {
     "name": "stdout",
     "output_type": "stream",
     "text": [
      "[[200 100 100]\n",
      " [  0  10  50]\n",
      " [ 50 250 120]]\n"
     ]
    }
   ],
   "source": [
    "X = np.array([[200, 100, 100], [0, 10, 50], [50, 250, 120]])\n",
    "print(X)"
   ]
  },
  {
   "cell_type": "markdown",
   "metadata": {},
   "source": [
    "Y도 마찬가지"
   ]
  },
  {
   "cell_type": "code",
   "execution_count": 9,
   "metadata": {
    "collapsed": false
   },
   "outputs": [
    {
     "name": "stdout",
     "output_type": "stream",
     "text": [
      "[[100 220 230]\n",
      " [ 45  95 120]\n",
      " [205 100   0]]\n"
     ]
    }
   ],
   "source": [
    "Y = np.array([[100, 220, 230], [45, 95, 120], [205, 100, 0]])\n",
    "print(Y)"
   ]
  },
  {
   "cell_type": "markdown",
   "metadata": {},
   "source": [
    "W = X+Y"
   ]
  },
  {
   "cell_type": "code",
   "execution_count": 10,
   "metadata": {
    "collapsed": false
   },
   "outputs": [
    {
     "name": "stdout",
     "output_type": "stream",
     "text": [
      "[[300 320 330]\n",
      " [ 45 105 170]\n",
      " [255 350 120]]\n"
     ]
    }
   ],
   "source": [
    "W = X + Y\n",
    "print(W)"
   ]
  },
  {
   "cell_type": "markdown",
   "metadata": {},
   "source": [
    "#### Normalization 방법 1. 최대값과 최소값을 이용한 방법\n",
    "#### 수식은 교재에 있다\n",
    "#### min(), max(), round()는 numpy에서 제공하는 함수이다"
   ]
  },
  {
   "cell_type": "code",
   "execution_count": 12,
   "metadata": {
    "collapsed": true
   },
   "outputs": [],
   "source": [
    "Za = np.round(255*(W-W.min())/(W.max()-W.min()))"
   ]
  },
  {
   "cell_type": "markdown",
   "metadata": {},
   "source": [
    "astype 함수는 자료형을 변경해 준다 (double -> uint8)"
   ]
  },
  {
   "cell_type": "code",
   "execution_count": 14,
   "metadata": {
    "collapsed": false
   },
   "outputs": [
    {
     "name": "stdout",
     "output_type": "stream",
     "text": [
      "[[213 230 238]\n",
      " [  0  50 105]\n",
      " [176 255  63]]\n"
     ]
    }
   ],
   "source": [
    "Za = Za.astype(dtype='uint8')\n",
    "print(Za)"
   ]
  },
  {
   "cell_type": "markdown",
   "metadata": {},
   "source": [
    "#### Normalization 방법 2. 0-255로 강제로 자르기\n",
    "#### clip 하한/상한 값으로 값을 Truncate해주는 함수이다"
   ]
  },
  {
   "cell_type": "code",
   "execution_count": 15,
   "metadata": {
    "collapsed": false
   },
   "outputs": [
    {
     "name": "stdout",
     "output_type": "stream",
     "text": [
      "[[255 255 255]\n",
      " [ 45 105 170]\n",
      " [255 255 120]]\n"
     ]
    }
   ],
   "source": [
    "Zb = np.clip(W,0,255)\n",
    "print(Zb)"
   ]
  }
 ],
 "metadata": {
  "anaconda-cloud": {},
  "kernelspec": {
   "display_name": "Python [conda root]",
   "language": "python",
   "name": "conda-root-py"
  },
  "language_info": {
   "codemirror_mode": {
    "name": "ipython",
    "version": 3
   },
   "file_extension": ".py",
   "mimetype": "text/x-python",
   "name": "python",
   "nbconvert_exporter": "python",
   "pygments_lexer": "ipython3",
   "version": "3.5.2"
  }
 },
 "nbformat": 4,
 "nbformat_minor": 2
}
